{
 "cells": [
  {
   "cell_type": "code",
   "execution_count": 1,
   "metadata": {},
   "outputs": [],
   "source": [
    "def main():\n",
    "    print(\"This is a program creating user names from full names!\")\n",
    "    input_file_name = input(\"Enter the file with user full names\")\n",
    "    output_file_name = input(\"Enter the output file name\")\n",
    "    \n",
    "    infile = open(input_file_name, 'r')\n",
    "    outfile = open(output_file_name, 'w')\n",
    "    \n",
    "    for line in infile: ##or infile.readlines\n",
    "        first, last = line.split() ##default is space\n",
    "        uname = (first[0] + last[0:7]).lower()\n",
    "        print(uname, file = outfile)\n",
    "        \n",
    "    inflie.close()\n",
    "    outfile.close()\n",
    "    print(\"done!\")"
   ]
  },
  {
   "cell_type": "code",
   "execution_count": null,
   "metadata": {},
   "outputs": [],
   "source": []
  }
 ],
 "metadata": {
  "kernelspec": {
   "display_name": "Python 3",
   "language": "python",
   "name": "python3"
  },
  "language_info": {
   "codemirror_mode": {
    "name": "ipython",
    "version": 3
   },
   "file_extension": ".py",
   "mimetype": "text/x-python",
   "name": "python",
   "nbconvert_exporter": "python",
   "pygments_lexer": "ipython3",
   "version": "3.7.2"
  }
 },
 "nbformat": 4,
 "nbformat_minor": 2
}
